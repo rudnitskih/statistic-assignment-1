{
 "cells": [
  {
   "cell_type": "code",
   "execution_count": 34,
   "metadata": {
    "collapsed": true
   },
   "outputs": [],
   "source": [
    "from scipy import stats\n",
    "import pandas as pd\n",
    "import matplotlib.pyplot as plt\n",
    "import seaborn as sns\n",
    "import math\n",
    "%matplotlib inline\n",
    "\n",
    "file = r'../ceo.xls'\n",
    "df = pd.read_excel(file)\n",
    "salarySeries = df['salary']"
   ]
  },
  {
   "cell_type": "code",
   "execution_count": 4,
   "metadata": {},
   "outputs": [
    {
     "name": "stdout",
     "output_type": "stream",
     "text": [
      "1.a\n",
      "Mean: 2027.51677852\n",
      "Trimmed 10% mean: 1710.09192201\n",
      "Median: 1600.0\n",
      "\n",
      "Low 10% quantile: 750.0\n",
      "Low quartile: 1084.0\n",
      "Upper quartile: 2347.5\n",
      "Upper 10% quantile: 3384.4\n",
      "\n",
      "Results:\n",
      "TODO\n"
     ]
    }
   ],
   "source": [
    "print('1.a')\n",
    "print('Mean: ' + str(salarySeries.mean()))\n",
    "print('Trimmed 10% mean: ' + str(stats.trim_mean(salarySeries, .1)))\n",
    "print('Median: ' + str(salarySeries.median()))\n",
    "\n",
    "print('\\nLow 10% quantile: ' + str(salarySeries.quantile(.1)))\n",
    "print('Low quartile: ' + str(salarySeries.quantile(.25)))\n",
    "print('Upper quartile: ' + str(salarySeries.quantile(.75)))\n",
    "print('Upper 10% quantile: ' + str(salarySeries.quantile(.9)))\n",
    "print('\\nResults:')\n",
    "print('TODO')"
   ]
  },
  {
   "cell_type": "code",
   "execution_count": 5,
   "metadata": {},
   "outputs": [
    {
     "name": "stdout",
     "output_type": "stream",
     "text": [
      "2.b\n"
     ]
    },
    {
     "data": {
      "image/png": "[encoded data removed]",
      "text/plain": [
       "<matplotlib.figure.Figure at 0x104375550>"
      ]
     },
     "metadata": {},
     "output_type": "display_data"
    }
   ],
   "source": [
    "print('1.b')\n",
    "salarySeries.hist(cumulative=True, normed=True)\n",
    "plt.show()\n",
    "print('\\nResults:')\n",
    "print('TODO')"
   ]
  },
  {
   "cell_type": "code",
   "execution_count": 57,
   "metadata": {},
   "outputs": [
    {
     "name": "stdout",
     "output_type": "stream",
     "text": [
      "1.c\n"
     ]
    },
    {
     "data": {
      "image/png": "[encoded data removed]",
      "text/plain": [
       "<matplotlib.figure.Figure at 0x109c32e10>"
      ]
     },
     "metadata": {},
     "output_type": "display_data"
    },
    {
     "data": {
      "image/png": "[encoded data removed]",
      "text/plain": [
       "<matplotlib.figure.Figure at 0x109c3b310>"
      ]
     },
     "metadata": {},
     "output_type": "display_data"
    },
    {
     "name": "stdout",
     "output_type": "stream",
     "text": [
      "\n",
      "Results:\n",
      "TODO\n"
     ]
    }
   ],
   "source": [
    "print('1.c')\n",
    "sns.distplot(salarySeries, kde=False)\n",
    "plt.show()\n",
    "\n",
    "plt.figure(figsize=(5, 10))\n",
    "sns.boxplot(salarySeries, orient=\"v\", fliersize=2)\n",
    "plt.show()\n",
    "\n",
    "print('\\nResults:')\n",
    "print('TODO')"
   ]
  },
  {
   "cell_type": "code",
   "execution_count": null,
   "metadata": {
    "collapsed": true
   },
   "outputs": [],
   "source": [
    "print('1.d')\n",
    "salarySeries.hist(bins=90)\n",
    "plt.show()\n",
    "salarySeries.hist(bins=3)\n",
    "plt.show()"
   ]
  },
  {
   "cell_type": "code",
   "execution_count": null,
   "metadata": {},
   "outputs": [],
   "source": [
    "print('1.e')\n",
    "lnSalarySeries = salarySeries.apply(math.log)\n",
    "lnSalarySeries.plot(kind='box')\n",
    "plt.show()\n",
    "lnSalarySeries.hist(bins=90)\n",
    "plt.show()\n",
    "print('Mean: ' + str(lnSalarySeries.mean()))\n",
    "print('Median: ' + str(lnSalarySeries.median()))"
   ]
  },
  {
   "cell_type": "code",
   "execution_count": null,
   "metadata": {
    "collapsed": true
   },
   "outputs": [],
   "source": []
  },
  {
   "cell_type": "code",
   "execution_count": null,
   "metadata": {},
   "outputs": [],
   "source": [
    "print('2.a')\n",
    "\n",
    "\n",
    "\n",
    "corr = df.corr()\n",
    "print(corr)\n",
    "# print(df)\n",
    "corr.drop(['totcomp', 'tenure', 'age', 'sales', 'profits', 'assets'], axis=0, inplace=True)\n",
    "sns.heatmap(corr, annot=True)"
   ]
  },
  {
   "cell_type": "code",
   "execution_count": null,
   "metadata": {},
   "outputs": [],
   "source": [
    "print('2.2)')\n",
    "sns.pairplot(df);"
   ]
  },
  {
   "cell_type": "code",
   "execution_count": null,
   "metadata": {},
   "outputs": [],
   "source": [
    "spearmanCorrelation = df.corr(method=\"spearman\")\n",
    "\n",
    "spearmanCorrelation[\"salary\"]\n",
    "sns.heatmap(spearmanCorrelation, annot=True)"
   ]
  },
  {
   "cell_type": "code",
   "execution_count": null,
   "metadata": {},
   "outputs": [],
   "source": [
    "print('2.c')\n",
    "\n",
    "def groupByAge(i):\n",
    "    if (df['age'][i] < 50):\n",
    "        return 'young'\n",
    "    else:\n",
    "        return 'old'\n",
    "    \n",
    "salarySeriesByAge = df.groupby(groupByAge)\n",
    "\n",
    "\n",
    "for name, group in salarySeriesByAge:\n",
    "    bins = 20\n",
    "    group['salary'].hist(label=name, bins=bins, figsize=[10, 10], normed=True, alpha=0.7)\n",
    "\n",
    "plt.legend(loc='upper right')\n",
    "plt.show()\n",
    "salarySeriesByAge.size()\n",
    "\n",
    "for name, group in salarySeriesByAge:\n",
    "    group['salary'].hist(cumulative=True, normed=True, label=name, figsize=[10, 10], alpha=0.7)"
   ]
  },
  {
   "cell_type": "code",
   "execution_count": null,
   "metadata": {
    "collapsed": true
   },
   "outputs": [],
   "source": []
  }
 ],
 "metadata": {
  "kernelspec": {
   "display_name": "Python 2",
   "language": "python",
   "name": "python2"
  },
  "language_info": {
   "codemirror_mode": {
    "name": "ipython",
    "version": 2
   },
   "file_extension": ".py",
   "mimetype": "text/x-python",
   "name": "python",
   "nbconvert_exporter": "python",
   "pygments_lexer": "ipython2",
   "version": "2.7.13"
  }
 },
 "nbformat": 4,
 "nbformat_minor": 1
}
